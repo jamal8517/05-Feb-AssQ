{
 "cells": [
  {
   "cell_type": "markdown",
   "id": "ebc6fdb3-214b-400c-afdb-b7601595b145",
   "metadata": {},
   "source": [
    "Q1. Explain Class and Object with respect to Object-Oriented Programming. Give a suitable example."
   ]
  },
  {
   "cell_type": "code",
   "execution_count": 2,
   "id": "0cfec5bf-00fb-4b80-ba13-9ff56192a5eb",
   "metadata": {},
   "outputs": [
    {
     "name": "stdout",
     "output_type": "stream",
     "text": [
      "Toyota\n",
      "red\n",
      "The blue Toyota car's engine is started.\n",
      "The red Ford car's engine is started.\n"
     ]
    }
   ],
   "source": [
    "# Definition of a Car class\n",
    "class Car:\n",
    "    def __init__(self, brand, color):\n",
    "        self.brand = brand\n",
    "        self.color = color\n",
    "\n",
    "    def start_engine(self):\n",
    "        print(f\"The {self.color} {self.brand} car's engine is started.\")\n",
    "\n",
    "# Creating objects of the Car class\n",
    "car1 = Car(\"Toyota\", \"blue\")\n",
    "car2 = Car(\"Ford\", \"red\")\n",
    "\n",
    "# Accessing object properties\n",
    "print(car1.brand)   # Output: Toyota\n",
    "print(car2.color)   # Output: red\n",
    "\n",
    "# Calling object methods\n",
    "car1.start_engine()   # Output: The blue Toyota car's engine is started.\n",
    "car2.start_engine()   # Output: The red Ford car's engine is started.\n"
   ]
  },
  {
   "cell_type": "markdown",
   "id": "c75fe256-dea9-4df9-b45f-7773aab8305d",
   "metadata": {},
   "source": [
    "Q2. Name the four pillars of OOPs."
   ]
  },
  {
   "cell_type": "markdown",
   "id": "52076bc1-01fe-496f-99f2-cfb2be379b81",
   "metadata": {},
   "source": [
    "The four pillars of Oops\n",
    "1. Abstraction\n",
    "2. Encapsulation\n",
    "3. Inheritance\n",
    "4. Polymorphism"
   ]
  },
  {
   "cell_type": "markdown",
   "id": "5fc0189a-c3dd-437a-a36e-e0e3ef875967",
   "metadata": {},
   "source": [
    "Q3. Explain why the __init__() function is used. Give a suitable example."
   ]
  },
  {
   "cell_type": "code",
   "execution_count": 1,
   "id": "2595c919-43a8-4894-a391-522f2ae0b67e",
   "metadata": {},
   "outputs": [],
   "source": [
    "class Vahicals:\n",
    "    def __init__(self, milege , cost ):\n",
    "        self.milege = milege \n",
    "        self.cost = cost\n",
    "        \n",
    "        \n",
    "    def show_details(self):\n",
    "        print(\"i am vahicals\")\n",
    "        print(\"milege of vahical is \" , self.milege)\n",
    "        print(\"cost of vahicals is \" , self.cost)\n",
    "        \n",
    "        "
   ]
  },
  {
   "cell_type": "code",
   "execution_count": 2,
   "id": "2b6d9b75-7544-450c-9dda-565758012076",
   "metadata": {},
   "outputs": [],
   "source": [
    "v1 = Vahicals(60,100000)"
   ]
  },
  {
   "cell_type": "code",
   "execution_count": 3,
   "id": "daf170e0-8d6b-4615-b11f-56ae4bf2dd14",
   "metadata": {},
   "outputs": [
    {
     "name": "stdout",
     "output_type": "stream",
     "text": [
      "i am vahicals\n",
      "milege of vahical is  60\n",
      "cost of vahicals is  100000\n"
     ]
    }
   ],
   "source": [
    "v1.show_details()"
   ]
  },
  {
   "cell_type": "markdown",
   "id": "ffd93ddc-6bd3-4c05-a260-a0be319f05e9",
   "metadata": {},
   "source": [
    "Q4. Why self is used in OOPs?"
   ]
  },
  {
   "cell_type": "code",
   "execution_count": 5,
   "id": "b1ebebdc-fba8-47bd-ac6d-e289dd86b3dc",
   "metadata": {},
   "outputs": [
    {
     "name": "stdout",
     "output_type": "stream",
     "text": [
      "The Tesla Model S's engine is starting.\n"
     ]
    }
   ],
   "source": [
    "class Car:\n",
    "    def __init__(self, brand, model):\n",
    "        self.brand = brand\n",
    "        self.model = model\n",
    "\n",
    "    def start_engine(self):\n",
    "        print(f\"The {self.brand} {self.model}'s engine is starting.\")\n",
    "\n",
    "my_car = Car(\"Tesla\", \"Model S\")\n",
    "my_car.start_engine()\n"
   ]
  },
  {
   "cell_type": "markdown",
   "id": "1b236f3b-7ac1-49fa-8c10-55cb9f815828",
   "metadata": {},
   "source": [
    "Q5. What is inheritance? Give an example for each type of inheritance."
   ]
  },
  {
   "cell_type": "code",
   "execution_count": 6,
   "id": "45de5486-531f-40b6-aad8-fbb2ee6999e6",
   "metadata": {},
   "outputs": [],
   "source": [
    "class Vahicals:\n",
    "    def __init__(self, milege , cost ):\n",
    "        self.milege = milege \n",
    "        self.cost = cost\n",
    "        \n",
    "        \n",
    "    def show_details(self):\n",
    "        print(\"i am vahicals\")\n",
    "        print(\"milege of vahical is \" , self.milege)\n",
    "        print(\"cost of vahicals is \" , self.cost)\n",
    "        \n",
    "        "
   ]
  },
  {
   "cell_type": "code",
   "execution_count": 7,
   "id": "d86afbe9-b773-4695-8ee9-5a6477407a05",
   "metadata": {},
   "outputs": [],
   "source": [
    "v1 = Vahicals(60,100000)"
   ]
  },
  {
   "cell_type": "code",
   "execution_count": 8,
   "id": "7987c101-003d-42d4-b95a-bc697286f212",
   "metadata": {},
   "outputs": [
    {
     "name": "stdout",
     "output_type": "stream",
     "text": [
      "i am vahicals\n",
      "milege of vahical is  60\n",
      "cost of vahicals is  100000\n"
     ]
    }
   ],
   "source": [
    "v1.show_details()"
   ]
  },
  {
   "cell_type": "code",
   "execution_count": 9,
   "id": "49295ac1-f48f-46cc-abfe-9fa7562be433",
   "metadata": {},
   "outputs": [],
   "source": [
    "class Car(Vahicals):\n",
    "    def show_car_details(self):\n",
    "        print(\"i am a car\")\n",
    "    "
   ]
  },
  {
   "cell_type": "code",
   "execution_count": 10,
   "id": "2fe0b606-0d40-4ee3-8b9d-2c243faf999a",
   "metadata": {},
   "outputs": [],
   "source": [
    "c1 = Car(60,100000)"
   ]
  },
  {
   "cell_type": "code",
   "execution_count": 11,
   "id": "4548a0b2-b07a-4489-9dae-aed5668817dc",
   "metadata": {},
   "outputs": [
    {
     "name": "stdout",
     "output_type": "stream",
     "text": [
      "i am vahicals\n",
      "milege of vahical is  60\n",
      "cost of vahicals is  100000\n"
     ]
    }
   ],
   "source": [
    "c1.show_details()"
   ]
  },
  {
   "cell_type": "code",
   "execution_count": 12,
   "id": "3f60a100-96fe-495f-8bde-20e93c77d2df",
   "metadata": {},
   "outputs": [
    {
     "name": "stdout",
     "output_type": "stream",
     "text": [
      "i am a car\n"
     ]
    }
   ],
   "source": [
    "c1.show_car_details()"
   ]
  },
  {
   "cell_type": "code",
   "execution_count": null,
   "id": "78d3c70c-8234-4abc-8a43-a0614807b275",
   "metadata": {},
   "outputs": [],
   "source": []
  }
 ],
 "metadata": {
  "kernelspec": {
   "display_name": "Python 3 (ipykernel)",
   "language": "python",
   "name": "python3"
  },
  "language_info": {
   "codemirror_mode": {
    "name": "ipython",
    "version": 3
   },
   "file_extension": ".py",
   "mimetype": "text/x-python",
   "name": "python",
   "nbconvert_exporter": "python",
   "pygments_lexer": "ipython3",
   "version": "3.10.8"
  }
 },
 "nbformat": 4,
 "nbformat_minor": 5
}
